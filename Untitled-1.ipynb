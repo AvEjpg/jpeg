{
 "cells": [
  {
   "cell_type": "code",
   "execution_count": 6,
   "metadata": {},
   "outputs": [],
   "source": [
    "import pandas\n",
    "import cianparser"
   ]
  },
  {
   "cell_type": "code",
   "execution_count": 7,
   "metadata": {},
   "outputs": [
    {
     "name": "stdout",
     "output_type": "stream",
     "text": [
      "\n",
      "                              Preparing to collect information from pages..\n",
      "The absolute path to the file: \n",
      "c:\\Users\\user\\AppData\\Local\\Programs\\Microsoft VS Code\\cian_flat_sale_1_2_moskva_23_Oct_2024_10_17_13_450338.csv \n",
      "\n",
      "The page from which the collection of information begins: \n",
      " https://cian.ru/cat.php?engine_version=2&p=1&with_neighbors=0&region=1&deal_type=sale&offer_type=flat&room1=1&room2=1\n",
      "\n",
      "Collecting information from pages with list of offers\n",
      " 1 | 1 page with list: [=>=>=>=>=>=>=>=>=>=>=>=>=>=>=>=>=>=>=>=>=>=>=>=>=>=>=>=>] 100% | Count of all parsed: 28. Progress ratio: 50 %. Average price: 327 203 789 rub\n",
      " 2 | 2 page with list: [=>=>=>=>=>=>=>=>=>=>=>=>=>=>=>=>=>=>=>=>=>=>=>=>=>=>=>=>] 100% | Count of all parsed: 56. Progress ratio: 100 %. Average price: 368 883 900 rub\n",
      "\n",
      "The collection of information from the pages with list of offers is completed\n",
      "Total number of parsed offers: 56. \n",
      "{'author': 'VESPER', 'author_type': 'developer', 'url': 'https://www.cian.ru/sale/flat/286258299/', 'location': 'Москва', 'deal_type': 'sale', 'accommodation_type': 'flat', 'floor': 5, 'floors_count': 9, 'rooms_count': 2, 'total_meters': 104.2, 'price': 150958800, 'district': 'Тверской', 'street': '1-я Тверская-Ямская ', 'house_number': '2', 'underground': 'Маяковская', 'residential_complex': 'Vesper Tverskaya'}\n"
     ]
    }
   ],
   "source": [
    "moscow_parser = cianparser.CianParser(location=\"Москва\")\n",
    "data = moscow_parser.get_flats(deal_type=\"sale\", rooms=(1, 2), with_saving_csv=True, additional_settings={\"start_page\":1, \"end_page\":2})\n",
    "\n",
    "print(data[0])"
   ]
  }
 ],
 "metadata": {
  "kernelspec": {
   "display_name": "Python 3",
   "language": "python",
   "name": "python3"
  },
  "language_info": {
   "codemirror_mode": {
    "name": "ipython",
    "version": 3
   },
   "file_extension": ".py",
   "mimetype": "text/x-python",
   "name": "python",
   "nbconvert_exporter": "python",
   "pygments_lexer": "ipython3",
   "version": "3.9.13"
  }
 },
 "nbformat": 4,
 "nbformat_minor": 2
}
